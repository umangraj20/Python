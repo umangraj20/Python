{
 "cells": [
  {
   "cell_type": "code",
   "execution_count": 5,
   "metadata": {},
   "outputs": [
    {
     "name": "stdout",
     "output_type": "stream",
     "text": [
      "[3, 21, 24, 12]\n"
     ]
    }
   ],
   "source": [
    "l1=[1,3,5,43,21,22,24]\n",
    "l2=[2,4,5,34,65,76,12]\n",
    "l3=[]\n",
    "for i in range (0,len(l1)):\n",
    "    if l1[i]%3==0:\n",
    "        l3.append(l1[i])\n",
    "for i in range (0,len(l2)):\n",
    "    if l2[i]%3==0:\n",
    "        l3.append(l2[i])\n",
    "print (l3)        "
   ]
  },
  {
   "cell_type": "code",
   "execution_count": 6,
   "metadata": {},
   "outputs": [
    {
     "name": "stdout",
     "output_type": "stream",
     "text": [
      "[3, 21, 24, 4, 76, 12]\n"
     ]
    }
   ],
   "source": [
    "l1=[1,3,5,43,21,22,24]\n",
    "l2=[2,4,5,34,65,76,12]\n",
    "l3=[]\n",
    "for i in range (0,len(l1)):\n",
    "    if l1[i]%3==0 or l1[i]%4==0:\n",
    "        l3.append(l1[i])\n",
    "for i in range (0,len(l2)):\n",
    "    if l2[i]%3==0 or l2[i]%4==0:\n",
    "        l3.append(l2[i])\n",
    "print (l3)        "
   ]
  },
  {
   "cell_type": "code",
   "execution_count": 8,
   "metadata": {},
   "outputs": [
    {
     "name": "stdout",
     "output_type": "stream",
     "text": [
      "1\n",
      "2\n",
      "3\n",
      "4\n"
     ]
    }
   ],
   "source": [
    "t1=(1,2,3,4)\n",
    "l1=list(t1)\n",
    "for i in range (0,len(l1)):\n",
    "    print (l1[i])"
   ]
  },
  {
   "cell_type": "code",
   "execution_count": null,
   "metadata": {},
   "outputs": [],
   "source": []
  }
 ],
 "metadata": {
  "kernelspec": {
   "display_name": "Python 3",
   "language": "python",
   "name": "python3"
  },
  "language_info": {
   "codemirror_mode": {
    "name": "ipython",
    "version": 3
   },
   "file_extension": ".py",
   "mimetype": "text/x-python",
   "name": "python",
   "nbconvert_exporter": "python",
   "pygments_lexer": "ipython3",
   "version": "3.7.4"
  }
 },
 "nbformat": 4,
 "nbformat_minor": 2
}
